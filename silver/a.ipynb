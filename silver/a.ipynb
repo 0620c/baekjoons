{
 "cells": [
  {
   "cell_type": "code",
   "execution_count": null,
   "metadata": {},
   "outputs": [],
   "source": [
    "import sys\n",
    "input = sys.stdin.readline\n",
    "target = int(input())\n",
    "n = int(input())\n",
    "broken = list(map(int, input().split()))\n",
    "min_count = abs(100 - target)\n",
    "\n",
    "for nums in range(1000001):\n",
    "    nums = str(nums)\n",
    "    \n",
    "    for j in range(len(nums)):\n",
    "        # 각 숫자가 고장났는지 확인 후, 고장 났으면 break\n",
    "        if int(nums[j]) in broken:\n",
    "            break\n",
    "\n",
    "        # 고장난 숫자 없이 마지막 자리까지 왔다면 min_count 비교 후 업데이트\n",
    "        elif j == len(nums) - 1:\n",
    "            min_count = min(min_count, abs(int(nums) - target) + len(nums))\n",
    "\n",
    "    \n"
   ]
  },
  {
   "cell_type": "code",
   "execution_count": 2,
   "metadata": {},
   "outputs": [
    {
     "data": {
      "text/plain": [
       "3"
      ]
     },
     "execution_count": 2,
     "metadata": {},
     "output_type": "execute_result"
    }
   ],
   "source": [
    "arr = [[0 for col in range(2)] for row in range(3)]\n",
    "len(arr)"
   ]
  },
  {
   "cell_type": "code",
   "execution_count": 1,
   "metadata": {},
   "outputs": [
    {
     "data": {
      "text/plain": [
       "[2, 3]"
      ]
     },
     "execution_count": 1,
     "metadata": {},
     "output_type": "execute_result"
    }
   ],
   "source": [
    "arr = [1,2,3]\n",
    "arr[1:]"
   ]
  },
  {
   "cell_type": "code",
   "execution_count": null,
   "metadata": {},
   "outputs": [],
   "source": []
  }
 ],
 "metadata": {
  "kernelspec": {
   "display_name": "base",
   "language": "python",
   "name": "python3"
  },
  "language_info": {
   "codemirror_mode": {
    "name": "ipython",
    "version": 3
   },
   "file_extension": ".py",
   "mimetype": "text/x-python",
   "name": "python",
   "nbconvert_exporter": "python",
   "pygments_lexer": "ipython3",
   "version": "3.11.3"
  },
  "orig_nbformat": 4
 },
 "nbformat": 4,
 "nbformat_minor": 2
}
